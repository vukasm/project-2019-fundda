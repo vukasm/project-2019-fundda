{
 "cells": [
  {
   "cell_type": "markdown",
   "metadata": {},
   "source": [
    "## Tips-dataset analysis"
   ]
  },
  {
   "cell_type": "markdown",
   "metadata": {},
   "source": [
    "Let's take a look at the inbuilt tips dataset provided by seaborn, ask some questions and answer them using different Python libraries!"
   ]
  },
  {
   "cell_type": "markdown",
   "metadata": {},
   "source": [
    "## Part I  \n",
    "  \n",
    "  # Descriptive statistics"
   ]
  },
  {
   "cell_type": "code",
   "execution_count": 1,
   "metadata": {},
   "outputs": [],
   "source": [
    "#import all required libraries\n",
    "import pandas as pd\n",
    "import matplotlib.pyplot as plt\n",
    "import numpy as np\n",
    "import seaborn as sns\n",
    "from sklearn.linear_model import LinearRegression\n",
    "%matplotlib inline"
   ]
  },
  {
   "cell_type": "markdown",
   "metadata": {},
   "source": [
    "First, I import the CSV file as Dataframe with pandas using these lines of code:"
   ]
  },
  {
   "cell_type": "code",
   "execution_count": 2,
   "metadata": {},
   "outputs": [
    {
     "data": {
      "text/html": [
       "<div>\n",
       "<style scoped>\n",
       "    .dataframe tbody tr th:only-of-type {\n",
       "        vertical-align: middle;\n",
       "    }\n",
       "\n",
       "    .dataframe tbody tr th {\n",
       "        vertical-align: top;\n",
       "    }\n",
       "\n",
       "    .dataframe thead th {\n",
       "        text-align: right;\n",
       "    }\n",
       "</style>\n",
       "<table border=\"1\" class=\"dataframe\">\n",
       "  <thead>\n",
       "    <tr style=\"text-align: right;\">\n",
       "      <th></th>\n",
       "      <th>total_bill</th>\n",
       "      <th>tip</th>\n",
       "      <th>sex</th>\n",
       "      <th>smoker</th>\n",
       "      <th>day</th>\n",
       "      <th>time</th>\n",
       "      <th>size</th>\n",
       "    </tr>\n",
       "  </thead>\n",
       "  <tbody>\n",
       "    <tr>\n",
       "      <th>0</th>\n",
       "      <td>16.99</td>\n",
       "      <td>1.01</td>\n",
       "      <td>Female</td>\n",
       "      <td>No</td>\n",
       "      <td>Sun</td>\n",
       "      <td>Dinner</td>\n",
       "      <td>2</td>\n",
       "    </tr>\n",
       "    <tr>\n",
       "      <th>1</th>\n",
       "      <td>10.34</td>\n",
       "      <td>1.66</td>\n",
       "      <td>Male</td>\n",
       "      <td>No</td>\n",
       "      <td>Sun</td>\n",
       "      <td>Dinner</td>\n",
       "      <td>3</td>\n",
       "    </tr>\n",
       "    <tr>\n",
       "      <th>2</th>\n",
       "      <td>21.01</td>\n",
       "      <td>3.50</td>\n",
       "      <td>Male</td>\n",
       "      <td>No</td>\n",
       "      <td>Sun</td>\n",
       "      <td>Dinner</td>\n",
       "      <td>3</td>\n",
       "    </tr>\n",
       "    <tr>\n",
       "      <th>3</th>\n",
       "      <td>23.68</td>\n",
       "      <td>3.31</td>\n",
       "      <td>Male</td>\n",
       "      <td>No</td>\n",
       "      <td>Sun</td>\n",
       "      <td>Dinner</td>\n",
       "      <td>2</td>\n",
       "    </tr>\n",
       "    <tr>\n",
       "      <th>4</th>\n",
       "      <td>24.59</td>\n",
       "      <td>3.61</td>\n",
       "      <td>Female</td>\n",
       "      <td>No</td>\n",
       "      <td>Sun</td>\n",
       "      <td>Dinner</td>\n",
       "      <td>4</td>\n",
       "    </tr>\n",
       "  </tbody>\n",
       "</table>\n",
       "</div>"
      ],
      "text/plain": [
       "   total_bill   tip     sex smoker  day    time  size\n",
       "0       16.99  1.01  Female     No  Sun  Dinner     2\n",
       "1       10.34  1.66    Male     No  Sun  Dinner     3\n",
       "2       21.01  3.50    Male     No  Sun  Dinner     3\n",
       "3       23.68  3.31    Male     No  Sun  Dinner     2\n",
       "4       24.59  3.61  Female     No  Sun  Dinner     4"
      ]
     },
     "execution_count": 2,
     "metadata": {},
     "output_type": "execute_result"
    }
   ],
   "source": [
    "#Pandas read csv file from the url\n",
    "df=pd.read_csv(\"https://raw.githubusercontent.com/mwaskom/seaborn-data/master/tips.csv\")\n",
    "\n",
    "#show first five rows of the dataset\n",
    "df.head()"
   ]
  },
  {
   "cell_type": "markdown",
   "metadata": {},
   "source": [
    "Showing the first five rows of the dataset using **df.head()** we can se that dataset has several variables, named **total_bill, tip, sex, smoker, day, time** and **size**.  \n",
    "**total_bill** - total bill amount paid, in US dollars\n",
    "**tip** - tip amount, in US dollars\n",
    "**sex** - sex of the person paying the bill  \n",
    "**smoker** - 'yes' if there was a smoker in the group\n",
    "**day** - day of the week  \n",
    "**time** - lunch/dinner  \n",
    "**size** - size of the group"
   ]
  },
  {
   "cell_type": "markdown",
   "metadata": {},
   "source": [
    "**df.shape** returns the rows and the column count of the dataset.  \n",
    "We can se that tips dataset has 244 rows and 7 columns."
   ]
  },
  {
   "cell_type": "code",
   "execution_count": 5,
   "metadata": {},
   "outputs": [
    {
     "data": {
      "text/plain": [
       "(244, 7)"
      ]
     },
     "execution_count": 5,
     "metadata": {},
     "output_type": "execute_result"
    }
   ],
   "source": [
    "#shape of the dataset (rows,columns)\n",
    "df.shape"
   ]
  },
  {
   "cell_type": "markdown",
   "metadata": {},
   "source": [
    "**df.describe** returns some statistic data about the numerical columns in the dataset - **total_bil, tip** and **size**.  \n",
    "Here we can see the min and max tip amount compared to the total bill amount. Another thing we can read from this table is that half of the tips are below 2.9, and only half above that, even though the maximum tip amount is 10. The mean of tip amounts is 2.99 and therefore we can say that there are no extreme values.   We can also see the max size of the group visited the restaurant.\n"
   ]
  },
  {
   "cell_type": "code",
   "execution_count": 6,
   "metadata": {},
   "outputs": [
    {
     "data": {
      "text/html": [
       "<div>\n",
       "<style scoped>\n",
       "    .dataframe tbody tr th:only-of-type {\n",
       "        vertical-align: middle;\n",
       "    }\n",
       "\n",
       "    .dataframe tbody tr th {\n",
       "        vertical-align: top;\n",
       "    }\n",
       "\n",
       "    .dataframe thead th {\n",
       "        text-align: right;\n",
       "    }\n",
       "</style>\n",
       "<table border=\"1\" class=\"dataframe\">\n",
       "  <thead>\n",
       "    <tr style=\"text-align: right;\">\n",
       "      <th></th>\n",
       "      <th>total_bill</th>\n",
       "      <th>tip</th>\n",
       "      <th>size</th>\n",
       "    </tr>\n",
       "  </thead>\n",
       "  <tbody>\n",
       "    <tr>\n",
       "      <th>count</th>\n",
       "      <td>244.000000</td>\n",
       "      <td>244.000000</td>\n",
       "      <td>244.000000</td>\n",
       "    </tr>\n",
       "    <tr>\n",
       "      <th>mean</th>\n",
       "      <td>19.785943</td>\n",
       "      <td>2.998279</td>\n",
       "      <td>2.569672</td>\n",
       "    </tr>\n",
       "    <tr>\n",
       "      <th>std</th>\n",
       "      <td>8.902412</td>\n",
       "      <td>1.383638</td>\n",
       "      <td>0.951100</td>\n",
       "    </tr>\n",
       "    <tr>\n",
       "      <th>min</th>\n",
       "      <td>3.070000</td>\n",
       "      <td>1.000000</td>\n",
       "      <td>1.000000</td>\n",
       "    </tr>\n",
       "    <tr>\n",
       "      <th>25%</th>\n",
       "      <td>13.347500</td>\n",
       "      <td>2.000000</td>\n",
       "      <td>2.000000</td>\n",
       "    </tr>\n",
       "    <tr>\n",
       "      <th>50%</th>\n",
       "      <td>17.795000</td>\n",
       "      <td>2.900000</td>\n",
       "      <td>2.000000</td>\n",
       "    </tr>\n",
       "    <tr>\n",
       "      <th>75%</th>\n",
       "      <td>24.127500</td>\n",
       "      <td>3.562500</td>\n",
       "      <td>3.000000</td>\n",
       "    </tr>\n",
       "    <tr>\n",
       "      <th>max</th>\n",
       "      <td>50.810000</td>\n",
       "      <td>10.000000</td>\n",
       "      <td>6.000000</td>\n",
       "    </tr>\n",
       "  </tbody>\n",
       "</table>\n",
       "</div>"
      ],
      "text/plain": [
       "       total_bill         tip        size\n",
       "count  244.000000  244.000000  244.000000\n",
       "mean    19.785943    2.998279    2.569672\n",
       "std      8.902412    1.383638    0.951100\n",
       "min      3.070000    1.000000    1.000000\n",
       "25%     13.347500    2.000000    2.000000\n",
       "50%     17.795000    2.900000    2.000000\n",
       "75%     24.127500    3.562500    3.000000\n",
       "max     50.810000   10.000000    6.000000"
      ]
     },
     "execution_count": 6,
     "metadata": {},
     "output_type": "execute_result"
    }
   ],
   "source": [
    "#statistical details of the dataset\n",
    "df.describe()"
   ]
  },
  {
   "cell_type": "markdown",
   "metadata": {},
   "source": [
    "By deviding mean of the *tip* variable with the mean of the *total_bill* variable we see **what percentage of the bill do guests on average leave as tip.** On average, the guests leave 15% of the bill as a tip. "
   ]
  },
  {
   "cell_type": "code",
   "execution_count": 21,
   "metadata": {},
   "outputs": [
    {
     "data": {
      "text/plain": [
       "0.15153580224410024"
      ]
     },
     "execution_count": 21,
     "metadata": {},
     "output_type": "execute_result"
    }
   ],
   "source": [
    "#change the / operator to mean true division throughout the module\n",
    "from __future__ import division\n",
    "\n",
    "#creating two variables, tip mean and total_bill mean\n",
    "meantip = df['tip'].mean()\n",
    "meantbill = df['total_bill'].mean()\n",
    "\n",
    "#calculate on average tip percentage \n",
    "perctip = meantip/meantbill\n",
    "perctip\n"
   ]
  },
  {
   "cell_type": "markdown",
   "metadata": {},
   "source": [
    "**df.types** returns the data type of each column.  \n",
    "We can see that our dataset contains three numerical values, two of which are floats and one integer. Other four variables are objects, i.e. string variables."
   ]
  },
  {
   "cell_type": "code",
   "execution_count": 7,
   "metadata": {},
   "outputs": [
    {
     "data": {
      "text/plain": [
       "total_bill    float64\n",
       "tip           float64\n",
       "sex            object\n",
       "smoker         object\n",
       "day            object\n",
       "time           object\n",
       "size            int64\n",
       "dtype: object"
      ]
     },
     "execution_count": 7,
     "metadata": {},
     "output_type": "execute_result"
    }
   ],
   "source": [
    "#variable types\n",
    "df.dtypes"
   ]
  },
  {
   "cell_type": "markdown",
   "metadata": {},
   "source": [
    "### Histogram"
   ]
  },
  {
   "cell_type": "code",
   "execution_count": 10,
   "metadata": {},
   "outputs": [
    {
     "data": {
      "text/plain": [
       "<matplotlib.axes._subplots.AxesSubplot at 0x20b2f10d9b0>"
      ]
     },
     "execution_count": 10,
     "metadata": {},
     "output_type": "execute_result"
    },
    {
     "data": {
      "image/png": "[encoded data removed]",
      "text/plain": [
       "<Figure size 432x288 with 1 Axes>"
      ]
     },
     "metadata": {
      "needs_background": "light"
     },
     "output_type": "display_data"
    }
   ],
   "source": [
    "#plotting histogram of the 'tip' variable using seaborn package\n",
    "sns.distplot(df['tip'], kde=False)"
   ]
  },
  {
   "cell_type": "markdown",
   "metadata": {},
   "source": [
    "From this histogram we can see that most tips are between 2 and 4."
   ]
  },
  {
   "cell_type": "markdown",
   "metadata": {},
   "source": [
    "### Kerner density estimate (KDE)"
   ]
  },
  {
   "cell_type": "code",
   "execution_count": 13,
   "metadata": {},
   "outputs": [
    {
     "data": {
      "text/plain": [
       "<matplotlib.axes._subplots.AxesSubplot at 0x20b30c79d68>"
      ]
     },
     "execution_count": 13,
     "metadata": {},
     "output_type": "execute_result"
    },
    {
     "data": {
      "image/png": "[encoded data removed]",
      "text/plain": [
       "<Figure size 432x288 with 1 Axes>"
      ]
     },
     "metadata": {
      "needs_background": "light"
     },
     "output_type": "display_data"
    }
   ],
   "source": [
    "#kde plot of the 'tip' variable using seaborn package\n",
    "sns.distplot(df['tip'],hist=False)"
   ]
  },
  {
   "cell_type": "markdown",
   "metadata": {},
   "source": [
    "KDE plot is very useful when we want to see the distribution of the variable and estimate the probability density of the variable. Again, from the plot we can see that the probability that the tip will be between 2 and 4 is the highest."
   ]
  },
  {
   "cell_type": "markdown",
   "metadata": {},
   "source": [
    "## Part II  \n",
    "  \n",
    "  ## Relationship between tips and total_bill"
   ]
  },
  {
   "cell_type": "markdown",
   "metadata": {},
   "source": [
    "In the scatter plot below, we can see the relationship between total bill and tip amount. "
   ]
  },
  {
   "cell_type": "code",
   "execution_count": 14,
   "metadata": {},
   "outputs": [
    {
     "data": {
      "image/png": "[encoded data removed]",
      "text/plain": [
       "<Figure size 432x288 with 1 Axes>"
      ]
     },
     "metadata": {},
     "output_type": "display_data"
    }
   ],
   "source": [
    "#set aesthetic parameters\n",
    "sns.set()\n",
    "#scatter of the variables 'total_bill' and 'tip'\n",
    "tips_totalbill = sns.scatterplot(x=\"total_bill\", y=\"tip\", data=df)"
   ]
  },
  {
   "cell_type": "markdown",
   "metadata": {},
   "source": [
    "### Linear regression model"
   ]
  },
  {
   "cell_type": "markdown",
   "metadata": {},
   "source": [
    "We see that there is some kind of relationship between the two variables. But what kind of relationship it is? How strong is it? I will use Linear regression model to test the linear relationship between variables.  \n",
    "The next step is to divide the data into independent and dependent variable. In this case, I am using 'total_bill' variable as independent (x) and 'tips' as dependent variable (y) because I want to see how tips change with the cange in the total bill.  "
   ]
  },
  {
   "cell_type": "code",
   "execution_count": 19,
   "metadata": {},
   "outputs": [],
   "source": [
    "# providing data for regression\n",
    "x = df['total_bill'].values.reshape(-1,1)\n",
    "y = df['tip'].values.reshape(-1,1)"
   ]
  },
  {
   "cell_type": "markdown",
   "metadata": {},
   "source": [
    "I am calling .reshape() on x and y because the variables are required to be two-dimensional, or to be more precise, to have one column and as many rows as necessary. That’s exactly what the argument (-1, 1) of .reshape() specifies. "
   ]
  },
  {
   "cell_type": "markdown",
   "metadata": {},
   "source": [
    "The next step is to create a linear regression model and fit it using the existing data."
   ]
  },
  {
   "cell_type": "code",
   "execution_count": 21,
   "metadata": {},
   "outputs": [],
   "source": [
    "#creating variable 'model' as a linear regression model\n",
    "model = LinearRegression()"
   ]
  },
  {
   "cell_type": "code",
   "execution_count": 28,
   "metadata": {},
   "outputs": [
    {
     "data": {
      "text/plain": [
       "LinearRegression(copy_X=True, fit_intercept=True, n_jobs=None,\n",
       "         normalize=False)"
      ]
     },
     "execution_count": 28,
     "metadata": {},
     "output_type": "execute_result"
    }
   ],
   "source": [
    "#fitting the model\n",
    "#calculates the optimal values of the weights 𝑏₀ and 𝑏₁, using the existing input and output (x and y) as the arguments\n",
    "model.fit(x, y)"
   ]
  },
  {
   "cell_type": "code",
   "execution_count": 25,
   "metadata": {},
   "outputs": [
    {
     "name": "stdout",
     "output_type": "stream",
     "text": [
      "coefficient of determination: 0.45661658635167657\n"
     ]
    }
   ],
   "source": [
    "#obtain the coefficient of determination (𝑅²)\n",
    "r_sq = model.score(x, y)\n",
    "print('coefficient of determination:', r_sq)"
   ]
  },
  {
   "cell_type": "code",
   "execution_count": 29,
   "metadata": {},
   "outputs": [
    {
     "name": "stdout",
     "output_type": "stream",
     "text": [
      "intercept: [0.92026961]\n",
      "slope: [[0.10502452]]\n"
     ]
    }
   ],
   "source": [
    "#intercept of the model 𝑏₀ \n",
    "print('intercept:', model.intercept_)\n",
    "#coefficient of the model 𝑏₁\n",
    "print('slope:', model.coef_)"
   ]
  },
  {
   "cell_type": "markdown",
   "metadata": {},
   "source": [
    "**The interpretation** of the intercept is not very useful for us in this case, since we don't expect 'total_bill' to be equal to zero at any point.  The value 𝑏₁ = 0.54 means that if 'total_bill' increases by 1, 'tip' will increase by aproximately 0.11."
   ]
  },
  {
   "cell_type": "markdown",
   "metadata": {},
   "source": [
    "Since now I have a satisfactory model, I can use it for predictions with either existing or new data."
   ]
  },
  {
   "cell_type": "code",
   "execution_count": 32,
   "metadata": {},
   "outputs": [
    {
     "name": "stdout",
     "output_type": "stream",
     "text": [
      "predicted tip:\n",
      "[[2.70463616]\n",
      " [2.00622312]\n",
      " [3.12683472]\n",
      " [3.40725019]\n",
      " [3.5028225 ]\n",
      " [3.57633966]\n",
      " [1.84133463]\n",
      " [3.74332864]\n",
      " [2.49983836]\n",
      " [2.47253198]\n",
      " [1.99887141]\n",
      " [4.6234341 ]\n",
      " [2.53974767]\n",
      " [2.85587147]\n",
      " [2.47778321]\n",
      " [3.1866987 ]\n",
      " [2.00517288]\n",
      " [2.631119  ]\n",
      " [2.70253567]\n",
      " [3.0890259 ]\n",
      " [2.80230897]\n",
      " [3.05121707]\n",
      " [2.57650625]\n",
      " [5.06033609]\n",
      " [3.00185555]\n",
      " [2.79075627]\n",
      " [2.32444741]\n",
      " [2.25303074]\n",
      " [3.19930164]\n",
      " [2.98400138]\n",
      " [1.92325375]\n",
      " [2.84746951]\n",
      " [2.50193885]\n",
      " [3.09322688]\n",
      " [2.78760553]\n",
      " [3.4471595 ]\n",
      " [2.63321949]\n",
      " [2.69833469]\n",
      " [2.88317784]\n",
      " [4.20438627]\n",
      " [2.60486287]\n",
      " [2.75399769]\n",
      " [2.38431139]\n",
      " [1.93690694]\n",
      " [4.11301494]\n",
      " [2.84116804]\n",
      " [3.25496464]\n",
      " [4.32306398]\n",
      " [3.91871958]\n",
      " [2.81491191]\n",
      " [2.23727706]\n",
      " [2.0009719 ]\n",
      " [4.57617306]\n",
      " [1.96421332]\n",
      " [3.60469628]\n",
      " [2.96719746]\n",
      " [4.91225152]\n",
      " [3.69396712]\n",
      " [2.10074519]\n",
      " [5.98980307]\n",
      " [3.05121707]\n",
      " [2.3706582 ]\n",
      " [2.0776398 ]\n",
      " [2.84116804]\n",
      " [2.76765087]\n",
      " [3.02916192]\n",
      " [2.64792292]\n",
      " [1.24269488]\n",
      " [3.0449156 ]\n",
      " [2.49668762]\n",
      " [2.18266431]\n",
      " [2.71303813]\n",
      " [3.74122815]\n",
      " [3.57528941]\n",
      " [2.46728075]\n",
      " [2.02407729]\n",
      " [2.80230897]\n",
      " [3.77693649]\n",
      " [3.31062763]\n",
      " [2.73614352]\n",
      " [2.96194623]\n",
      " [2.66997807]\n",
      " [1.9778665 ]\n",
      " [4.35247084]\n",
      " [2.5985614 ]\n",
      " [4.57827355]\n",
      " [2.28873908]\n",
      " [2.84011779]\n",
      " [3.51542544]\n",
      " [3.1425884 ]\n",
      " [3.96282988]\n",
      " [3.28227101]\n",
      " [1.52416059]\n",
      " [2.63426974]\n",
      " [3.30957738]\n",
      " [5.13910448]\n",
      " [3.78533845]\n",
      " [2.18371456]\n",
      " [3.12683472]\n",
      " [2.2288751 ]\n",
      " [2.11229789]\n",
      " [2.53554669]\n",
      " [5.57285573]\n",
      " [3.27491929]\n",
      " [3.11738252]\n",
      " [2.5334462 ]\n",
      " [3.07222197]\n",
      " [3.5679377 ]\n",
      " [2.83591681]\n",
      " [2.42317046]\n",
      " [2.39061286]\n",
      " [1.68169736]\n",
      " [4.91855299]\n",
      " [3.4356068 ]\n",
      " [3.62044996]\n",
      " [2.73824401]\n",
      " [4.06365342]\n",
      " [2.03878072]\n",
      " [2.22572436]\n",
      " [3.44925999]\n",
      " [2.14800622]\n",
      " [2.32969864]\n",
      " [2.41791923]\n",
      " [2.59541067]\n",
      " [2.23097559]\n",
      " [4.05000023]\n",
      " [1.8150785 ]\n",
      " [2.44522561]\n",
      " [2.11544862]\n",
      " [3.3169291 ]\n",
      " [2.92413741]\n",
      " [3.04911658]\n",
      " [2.09339347]\n",
      " [2.2078702 ]\n",
      " [2.8380173 ]\n",
      " [1.81402826]\n",
      " [2.00517288]\n",
      " [2.40636653]\n",
      " [2.60066189]\n",
      " [2.30239226]\n",
      " [2.75504793]\n",
      " [4.52261056]\n",
      " [5.24622948]\n",
      " [3.76118281]\n",
      " [2.64582243]\n",
      " [1.79722433]\n",
      " [2.87792662]\n",
      " [2.16691063]\n",
      " [1.94740939]\n",
      " [1.70900374]\n",
      " [2.39796457]\n",
      " [2.29924153]\n",
      " [2.73299278]\n",
      " [3.49862152]\n",
      " [2.99660432]\n",
      " [4.05525146]\n",
      " [5.97930062]\n",
      " [3.54588255]\n",
      " [2.3265479 ]\n",
      " [2.65212391]\n",
      " [3.17829674]\n",
      " [2.24988   ]\n",
      " [2.62271704]\n",
      " [2.3706582 ]\n",
      " [2.75924891]\n",
      " [3.49547078]\n",
      " [3.10057859]\n",
      " [4.25059706]\n",
      " [2.03247925]\n",
      " [2.03668023]\n",
      " [6.25656534]\n",
      " [2.58070723]\n",
      " [1.68169736]\n",
      " [4.26530049]\n",
      " [2.686782  ]\n",
      " [4.37557624]\n",
      " [2.79915823]\n",
      " [2.44102463]\n",
      " [1.92850498]\n",
      " [4.55726865]\n",
      " [4.55936914]\n",
      " [3.3704916 ]\n",
      " [5.68313148]\n",
      " [3.35368768]\n",
      " [5.17901379]\n",
      " [3.09322688]\n",
      " [3.11528203]\n",
      " [4.11931641]\n",
      " [2.8264646 ]\n",
      " [3.34633597]\n",
      " [2.56810429]\n",
      " [3.0008053 ]\n",
      " [3.90716689]\n",
      " [2.54604914]\n",
      " [2.66157611]\n",
      " [1.71425496]\n",
      " [2.00622312]\n",
      " [5.44787656]\n",
      " [2.28558834]\n",
      " [2.33915084]\n",
      " [2.88527833]\n",
      " [2.25828197]\n",
      " [2.28558834]\n",
      " [2.6426717 ]\n",
      " [3.07642296]\n",
      " [2.65002341]\n",
      " [3.71287153]\n",
      " [4.98786917]\n",
      " [3.46921465]\n",
      " [2.26038246]\n",
      " [4.07730661]\n",
      " [3.63935437]\n",
      " [5.99610454]\n",
      " [2.31394496]\n",
      " [3.87881027]\n",
      " [2.27508589]\n",
      " [3.87670978]\n",
      " [2.13750377]\n",
      " [1.73315938]\n",
      " [4.08570857]\n",
      " [2.19736774]\n",
      " [2.32969864]\n",
      " [1.82137997]\n",
      " [2.5985614 ]\n",
      " [2.32969864]\n",
      " [2.62901851]\n",
      " [1.97996699]\n",
      " [3.06802099]\n",
      " [2.3149952 ]\n",
      " [3.24341194]\n",
      " [3.44190828]\n",
      " [2.56810429]\n",
      " [2.13960426]\n",
      " [2.05138367]\n",
      " [2.55130037]\n",
      " [1.9778665 ]\n",
      " [2.24357853]\n",
      " [4.36822452]\n",
      " [4.68329807]\n",
      " [3.96913135]\n",
      " [3.774836  ]\n",
      " [3.30117542]\n",
      " [2.79180651]\n",
      " [2.89263005]]\n"
     ]
    }
   ],
   "source": [
    "#predicting the tip amount given the total_bill\n",
    "y_pred = model.predict(x)\n",
    "print('predicted tip:', y_pred, sep='\\n')"
   ]
  },
  {
   "cell_type": "code",
   "execution_count": 38,
   "metadata": {},
   "outputs": [
    {
     "name": "stdout",
     "output_type": "stream",
     "text": [
      "[[20]\n",
      " [25]\n",
      " [30]\n",
      " [35]]\n",
      "[[3.02075996]\n",
      " [3.54588255]\n",
      " [4.07100514]\n",
      " [4.59612772]]\n"
     ]
    }
   ],
   "source": [
    "#making a new input\n",
    "x_new = np.arange(20,40,5).reshape((-1, 1))\n",
    "print(x_new)\n",
    "\n",
    "#predicting a tip amount given the new input\n",
    "y_new = model.predict(x_new)\n",
    "print(y_new)"
   ]
  },
  {
   "cell_type": "markdown",
   "metadata": {},
   "source": [
    "The scatter plot below shows the linear relationship we obtained with the model."
   ]
  },
  {
   "cell_type": "code",
   "execution_count": 41,
   "metadata": {},
   "outputs": [
    {
     "data": {
      "image/png": "[encoded data removed]",
      "text/plain": [
       "<Figure size 432x288 with 1 Axes>"
      ]
     },
     "metadata": {},
     "output_type": "display_data"
    }
   ],
   "source": [
    "#scatter of inputs and outputs \n",
    "plt.scatter(x, y,  color='gray')\n",
    "#line plot of predicted outputs \n",
    "plt.plot(x, y_pred, color='red', linewidth=2)\n",
    "plt.show()"
   ]
  },
  {
   "cell_type": "markdown",
   "metadata": {},
   "source": [
    "Even though the given values are very dispersed, we can still see the positive linear relationship between total bill and tips.   \n",
    "Keep in mind that we only have a single sample of data, and not the entire population of data."
   ]
  },
  {
   "cell_type": "markdown",
   "metadata": {},
   "source": [
    "## Part III  \n",
    "  \n",
    "  ## Relationship between variables"
   ]
  },
  {
   "cell_type": "markdown",
   "metadata": {},
   "source": [
    "#### Day, Total_bill & Sex"
   ]
  },
  {
   "cell_type": "markdown",
   "metadata": {},
   "source": [
    "Bar plot below shows the relationship between the variables *day* and *total_bill*. From the plot we can clearly see that the total bill is on average the highest on Sunday, comparing to Saturday, Friday and Thursday, and is the lowest on Friday. This expected since people are expected to go to the restaurants more over the weekend than they do in the weekdays. Another thing noticed from this plot is that the standard deviation of the total bill is noticabely the largest on Friday.  "
   ]
  },
  {
   "cell_type": "code",
   "execution_count": 87,
   "metadata": {},
   "outputs": [
    {
     "data": {
      "image/png": "[encoded data removed]",
      "text/plain": [
       "<Figure size 432x288 with 1 Axes>"
      ]
     },
     "metadata": {
      "needs_background": "light"
     },
     "output_type": "display_data"
    }
   ],
   "source": [
    "bar = sns.barplot(x=\"day\", y=\"total_bill\", data=df, palette=\"pastel\")"
   ]
  },
  {
   "cell_type": "markdown",
   "metadata": {},
   "source": [
    "To check if this conclusion is consistent with the numbers from the dataset, the table below presents the data grouped by different days of the week. We can see from the table that overall, the sum of total bills was higher on sunday than on saturday, but on average, the bill was higher on saturday."
   ]
  },
  {
   "cell_type": "code",
   "execution_count": 9,
   "metadata": {},
   "outputs": [
    {
     "data": {
      "text/html": [
       "<div>\n",
       "<style scoped>\n",
       "    .dataframe tbody tr th:only-of-type {\n",
       "        vertical-align: middle;\n",
       "    }\n",
       "\n",
       "    .dataframe tbody tr th {\n",
       "        vertical-align: top;\n",
       "    }\n",
       "\n",
       "    .dataframe thead th {\n",
       "        text-align: right;\n",
       "    }\n",
       "</style>\n",
       "<table border=\"1\" class=\"dataframe\">\n",
       "  <thead>\n",
       "    <tr style=\"text-align: right;\">\n",
       "      <th></th>\n",
       "      <th>total_bill</th>\n",
       "      <th>tip</th>\n",
       "      <th>size</th>\n",
       "    </tr>\n",
       "    <tr>\n",
       "      <th>day</th>\n",
       "      <th></th>\n",
       "      <th></th>\n",
       "      <th></th>\n",
       "    </tr>\n",
       "  </thead>\n",
       "  <tbody>\n",
       "    <tr>\n",
       "      <th>Fri</th>\n",
       "      <td>325.88</td>\n",
       "      <td>51.96</td>\n",
       "      <td>40</td>\n",
       "    </tr>\n",
       "    <tr>\n",
       "      <th>Sat</th>\n",
       "      <td>1778.40</td>\n",
       "      <td>260.40</td>\n",
       "      <td>219</td>\n",
       "    </tr>\n",
       "    <tr>\n",
       "      <th>Sun</th>\n",
       "      <td>1627.16</td>\n",
       "      <td>247.39</td>\n",
       "      <td>216</td>\n",
       "    </tr>\n",
       "    <tr>\n",
       "      <th>Thur</th>\n",
       "      <td>1096.33</td>\n",
       "      <td>171.83</td>\n",
       "      <td>152</td>\n",
       "    </tr>\n",
       "  </tbody>\n",
       "</table>\n",
       "</div>"
      ],
      "text/plain": [
       "      total_bill     tip  size\n",
       "day                           \n",
       "Fri       325.88   51.96    40\n",
       "Sat      1778.40  260.40   219\n",
       "Sun      1627.16  247.39   216\n",
       "Thur     1096.33  171.83   152"
      ]
     },
     "execution_count": 9,
     "metadata": {},
     "output_type": "execute_result"
    }
   ],
   "source": [
    "#split the data into groups based on the variable 'day'\n",
    "df.groupby(['day']).sum()"
   ]
  },
  {
   "cell_type": "markdown",
   "metadata": {},
   "source": [
    "In the bar plot below, the third variable, *sex* is added to the same plot. Here we can look at the differences in total bill amount between male and female groups of visitors throughout the week. We can highlight that male groups spend aproximately 10% more than female groups. That difference is even larger on Friday.  "
   ]
  },
  {
   "cell_type": "code",
   "execution_count": 86,
   "metadata": {},
   "outputs": [
    {
     "data": {
      "image/png": "[encoded data removed]",
      "text/plain": [
       "<Figure size 432x288 with 1 Axes>"
      ]
     },
     "metadata": {
      "needs_background": "light"
     },
     "output_type": "display_data"
    }
   ],
   "source": [
    "bar = sns.barplot(x=\"day\", y=\"total_bill\", hue=\"sex\", data=df, palette=\"pastel\")"
   ]
  },
  {
   "cell_type": "markdown",
   "metadata": {},
   "source": [
    "#### Day & Tip"
   ]
  },
  {
   "cell_type": "markdown",
   "metadata": {},
   "source": [
    "In the next bar plot, we can see that tips are on average the largest on Sunday and the lowest on Friday, which is consistent with the total bill amount."
   ]
  },
  {
   "cell_type": "code",
   "execution_count": 32,
   "metadata": {
    "scrolled": true
   },
   "outputs": [
    {
     "data": {
      "image/png": "[encoded data removed]",
      "text/plain": [
       "<Figure size 432x288 with 1 Axes>"
      ]
     },
     "metadata": {
      "needs_background": "light"
     },
     "output_type": "display_data"
    }
   ],
   "source": [
    "bar = sns.barplot(x=\"day\", y=\"tip\", data=df, palette=\"pastel\")"
   ]
  },
  {
   "cell_type": "markdown",
   "metadata": {},
   "source": [
    "#### Time, Tip & Total_bill"
   ]
  },
  {
   "cell_type": "markdown",
   "metadata": {},
   "source": [
    "Bar plot below shows that tips are on average larger during the dinner time than lunch time by aproximately 0.5, which is visible from the table as well. We can see that around 70% of the total income of the restaurant comes from dinners."
   ]
  },
  {
   "cell_type": "code",
   "execution_count": 10,
   "metadata": {},
   "outputs": [
    {
     "data": {
      "text/html": [
       "<div>\n",
       "<style scoped>\n",
       "    .dataframe tbody tr th:only-of-type {\n",
       "        vertical-align: middle;\n",
       "    }\n",
       "\n",
       "    .dataframe tbody tr th {\n",
       "        vertical-align: top;\n",
       "    }\n",
       "\n",
       "    .dataframe thead th {\n",
       "        text-align: right;\n",
       "    }\n",
       "</style>\n",
       "<table border=\"1\" class=\"dataframe\">\n",
       "  <thead>\n",
       "    <tr style=\"text-align: right;\">\n",
       "      <th></th>\n",
       "      <th>total_bill</th>\n",
       "      <th>tip</th>\n",
       "      <th>size</th>\n",
       "    </tr>\n",
       "    <tr>\n",
       "      <th>time</th>\n",
       "      <th></th>\n",
       "      <th></th>\n",
       "      <th></th>\n",
       "    </tr>\n",
       "  </thead>\n",
       "  <tbody>\n",
       "    <tr>\n",
       "      <th>Dinner</th>\n",
       "      <td>3660.30</td>\n",
       "      <td>546.07</td>\n",
       "      <td>463</td>\n",
       "    </tr>\n",
       "    <tr>\n",
       "      <th>Lunch</th>\n",
       "      <td>1167.47</td>\n",
       "      <td>185.51</td>\n",
       "      <td>164</td>\n",
       "    </tr>\n",
       "  </tbody>\n",
       "</table>\n",
       "</div>"
      ],
      "text/plain": [
       "        total_bill     tip  size\n",
       "time                            \n",
       "Dinner     3660.30  546.07   463\n",
       "Lunch      1167.47  185.51   164"
      ]
     },
     "execution_count": 10,
     "metadata": {},
     "output_type": "execute_result"
    }
   ],
   "source": [
    "df.groupby('time').sum()"
   ]
  },
  {
   "cell_type": "code",
   "execution_count": 84,
   "metadata": {},
   "outputs": [
    {
     "data": {
      "image/png": "[encoded data removed]",
      "text/plain": [
       "<Figure size 432x288 with 1 Axes>"
      ]
     },
     "metadata": {
      "needs_background": "light"
     },
     "output_type": "display_data"
    }
   ],
   "source": [
    "bar = sns.barplot(x=\"time\",palette=[\"salmon\",\"c\"], y=\"tip\", data=df, order=[\"Dinner\", \"Lunch\"])"
   ]
  },
  {
   "cell_type": "markdown",
   "metadata": {},
   "source": [
    "This scatter plot shows the relationship between total bill and tip, while taking in account different times for dinner and lunch. We can see that most of the orders are happening during dinner time."
   ]
  },
  {
   "cell_type": "code",
   "execution_count": 14,
   "metadata": {},
   "outputs": [
    {
     "data": {
      "image/png": "[encoded data removed]",
      "text/plain": [
       "<Figure size 432x288 with 1 Axes>"
      ]
     },
     "metadata": {},
     "output_type": "display_data"
    }
   ],
   "source": [
    "#scatter plot showing the relationship between total bill and the tip with added variable dinner\n",
    "scatter = sns.scatterplot(x=\"total_bill\", y=\"tip\", hue=\"time\", data=df)"
   ]
  },
  {
   "cell_type": "markdown",
   "metadata": {},
   "source": [
    "#### Size, Total_bill & Tip"
   ]
  },
  {
   "cell_type": "markdown",
   "metadata": {},
   "source": [
    "Furthermore, we can look at the relationship between the total bill and the size of the group. As expected, we can see that on average, total bill increases with the size of the group."
   ]
  },
  {
   "cell_type": "code",
   "execution_count": 80,
   "metadata": {},
   "outputs": [
    {
     "data": {
      "image/png": "[encoded data removed]",
      "text/plain": [
       "<Figure size 432x288 with 1 Axes>"
      ]
     },
     "metadata": {
      "needs_background": "light"
     },
     "output_type": "display_data"
    }
   ],
   "source": [
    "bar = sns.barplot(\"size\", y=\"total_bill\", data=df, palette=\"Blues_d\")"
   ]
  },
  {
   "cell_type": "markdown",
   "metadata": {},
   "source": [
    "Next scatter plot shows the relationship between total bill, tip amount and the size of the group visiting the restaurant. The bigger the group, larger the dot on the scatter plot. We can see that the dots are on average larger going further from the 0, as the total bill amount and tips increase."
   ]
  },
  {
   "cell_type": "code",
   "execution_count": 10,
   "metadata": {},
   "outputs": [
    {
     "data": {
      "image/png": "[encoded data removed]",
      "text/plain": [
       "<Figure size 432x288 with 1 Axes>"
      ]
     },
     "metadata": {},
     "output_type": "display_data"
    }
   ],
   "source": [
    "scatter = sns.scatterplot(x=\"total_bill\", y=\"tip\", size=\"size\",data=df)"
   ]
  },
  {
   "cell_type": "markdown",
   "metadata": {},
   "source": [
    "#### Total_bill, Tip & Smoker"
   ]
  },
  {
   "cell_type": "markdown",
   "metadata": {},
   "source": [
    "Finally, let's look at the relationship between the tip and total bill considering whether the group has a smoker within it or not."
   ]
  },
  {
   "cell_type": "code",
   "execution_count": 23,
   "metadata": {},
   "outputs": [
    {
     "data": {
      "text/plain": [
       "count     244\n",
       "unique      2\n",
       "top        No\n",
       "freq      151\n",
       "Name: smoker, dtype: object"
      ]
     },
     "execution_count": 23,
     "metadata": {},
     "output_type": "execute_result"
    }
   ],
   "source": [
    "df['smoker'].describe()"
   ]
  },
  {
   "cell_type": "markdown",
   "metadata": {},
   "source": [
    "We can see that the most common value is 'No' and that it's frequency is 151, i.e. there is 151 Non-smoker groups in the data set. On the contrary, 93 groups had a smoker among them.  \n",
    "Next, we can take a look at the average total bill and average tip amount within smokers and non-smokers."
   ]
  },
  {
   "cell_type": "code",
   "execution_count": 26,
   "metadata": {},
   "outputs": [
    {
     "name": "stdout",
     "output_type": "stream",
     "text": [
      "Average total bill among smokers: 20.756344086021507\n",
      "Average total bill among non-smokers: 19.18827814569537\n",
      "Average tip among smokers: 3.008709677419355\n",
      "Average tip among non-smokers: 2.9918543046357624\n"
     ]
    }
   ],
   "source": [
    "print(\"Average total bill among smokers:\", df[df[\"smoker\"] == \"Yes\"][\"total_bill\"].mean())\n",
    "print(\"Average total bill among non-smokers:\", df[df[\"smoker\"] == \"No\"][\"total_bill\"].mean())\n",
    "print(\"Average tip among smokers:\", df[df[\"smoker\"] == \"Yes\"][\"tip\"].mean())\n",
    "print(\"Average tip among non-smokers:\", df[df[\"smoker\"] == \"No\"][\"tip\"].mean())"
   ]
  },
  {
   "cell_type": "markdown",
   "metadata": {},
   "source": [
    "From this data, we can conclude that on average smokers are a tiny bit more generous when it comes to leaving tips, but their total bills tend to be bigger as well, which explains that."
   ]
  },
  {
   "cell_type": "code",
   "execution_count": 28,
   "metadata": {},
   "outputs": [
    {
     "data": {
      "image/png": "[encoded data removed]",
      "text/plain": [
       "<Figure size 432x288 with 1 Axes>"
      ]
     },
     "metadata": {
      "needs_background": "light"
     },
     "output_type": "display_data"
    }
   ],
   "source": [
    "scatter = sns.scatterplot(x=\"total_bill\", y=\"tip\", hue=\"smoker\",data=df)"
   ]
  },
  {
   "cell_type": "markdown",
   "metadata": {},
   "source": [
    "From the scatter plot above, we can see that there is no clear pattern, if anything, there is more outliers in the *smoker* characteristic, which might explain the higher total bill & tip on average."
   ]
  },
  {
   "cell_type": "markdown",
   "metadata": {},
   "source": [
    "# The end"
   ]
  },
  {
   "cell_type": "code",
   "execution_count": null,
   "metadata": {},
   "outputs": [],
   "source": []
  }
 ],
 "metadata": {
  "kernelspec": {
   "display_name": "Python 3",
   "language": "python",
   "name": "python3"
  },
  "language_info": {
   "codemirror_mode": {
    "name": "ipython",
    "version": 3
   },
   "file_extension": ".py",
   "mimetype": "text/x-python",
   "name": "python",
   "nbconvert_exporter": "python",
   "pygments_lexer": "ipython3",
   "version": "3.7.1"
  }
 },
 "nbformat": 4,
 "nbformat_minor": 2
}
